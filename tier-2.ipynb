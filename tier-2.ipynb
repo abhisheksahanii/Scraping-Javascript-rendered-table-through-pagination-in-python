{
 "cells": [
  {
   "cell_type": "code",
   "execution_count": 5,
   "metadata": {},
   "outputs": [],
   "source": [
    "import pandas as pd \n",
    "from bs4 import BeautifulSoup\n",
    "from selenium import webdriver\n",
    "import re\n",
    "from selenium import webdriver\n",
    "import time"
   ]
  },
  {
   "cell_type": "code",
   "execution_count": 3,
   "metadata": {},
   "outputs": [],
   "source": [
    "\n",
    "# main_data= driver.find_elements_by_class_name(\"jss395\")\n",
    "# for data in main_data:\n",
    "#     print(data.text)\n"
   ]
  },
  {
   "cell_type": "code",
   "execution_count": 6,
   "metadata": {},
   "outputs": [],
   "source": [
    "from retry import retry\n",
    "from explicit import waiter\n",
    "\n"
   ]
  },
  {
   "cell_type": "code",
   "execution_count": 7,
   "metadata": {},
   "outputs": [],
   "source": [
    "html='https://uktiersponsors.co.uk/'\n",
    "driver = webdriver.Chrome()\n",
    "\n",
    "def page_scrape(html):\n",
    "    # url='https://uktiersponsors.co.uk/'\n",
    "    # driver = webdriver.Chrome()\n",
    "    # driver.get(url)\n",
    "    html=driver.page_source\n",
    "\n",
    "    column_names = [\"Company\", \"Website url\", \"Social url\", \"Town\", \"Industry\", \"Main Tier\", \"Sub tier\", \"Date Added\"]\n",
    "    pd.DataFrame(columns=column_names).to_csv(\"uk-tier-2.csv\", index=False, sep=\"\\t\", encoding=\"UTF-8\")\n",
    "\n",
    "    soup_doc= BeautifulSoup(html,'lxml')\n",
    "    for element in soup_doc.select('[id^=\"MUIDataTableBodyRow-\"]'):\n",
    "        data_dict = dict()\n",
    "        temp_data=element.select_one('.jss404')\n",
    "        if(temp_data):\n",
    "            data_dict[\"Company\"]=temp_data.text\n",
    "            if(temp_data.select_one('[id^=\"MuiDataTableBodyCell-\"]')):\n",
    "                data_dict[\"Social url\"] = temp_data.select_one('a[href]', href=True)[\"href\"]\n",
    "            \n",
    "            # if(temp_data.select_one('td.jss381 a[href]')):\n",
    "            #     data_dict[\"Social url\"] = temp_data.select_one('a[href]', href=True)[\"href\"]\n",
    "            # if(temp_data.select_one('[id^=\"\"]')):\n",
    "        temp_data = element.select_one('tr.jss349.jss351.jss396.jss397.jss399 a[href]')\n",
    "        if(temp_data):\n",
    "            temp_list=temp_data[\"href\"]\n",
    "            data_dict[\"Website url\"] =temp_list\n",
    "\n",
    "        temp_list=[]\n",
    "        if(temp_data):\n",
    "            rows=element.find_all('td')\n",
    "            for row in rows:\n",
    "                temp_list.append(row.text.strip())\n",
    "            \n",
    "            data_dict['Town'] = temp_list[7]\n",
    "            data_dict['Industry'] = temp_list[9]\n",
    "            data_dict['Main Tier'] = temp_list[11]\n",
    "            data_dict['Sub tier'] = temp_list[13]\n",
    "            data_dict['Date Added'] = temp_list[15]\n",
    "\n",
    "        for key in data_dict.keys():\n",
    "            if(type(data_dict[key]) == str):\n",
    "                data_dict[key] = re.sub(r\"\\s+\", \" \", data_dict[key]).strip()\n",
    "\n",
    "        pd.json_normalize(data_dict)\n",
    "        pd.DataFrame([data_dict], columns=column_names).to_csv(\"uk-tier-2.csv\", index=False, header=False, sep=\"\\t\", encoding=\"UTF-8\", mode=\"a\") \n",
    "        print(data_dict)\n",
    "\n",
    "\n",
    "def click_more(driver):\n",
    "    driver.find_element_by_xpath('//*[@id=\"pagination-next\"]/span[1]').click()\n",
    "    # main_data2= driver.find_elements_by_class_name(\"jss395\")\n",
    "\n",
    "try:\n",
    "    driver.get(\"https://uktiersponsors.co.uk/\")\n",
    "\n",
    "    while True:\n",
    "        click_more(driver)\n",
    "        html = driver.page_source\n",
    "        page_scrape(html)\n",
    "        time.sleep(3)\n",
    "finally:\n",
    "    driver.quit()"
   ]
  }
 ],
 "metadata": {
  "interpreter": {
   "hash": "5e02132598556c797d3bc8abbd6e62d3acba388094e221a9dfd016b1bfb0997d"
  },
  "kernelspec": {
   "display_name": "Python 3.9.7 64-bit (windows store)",
   "name": "python3"
  },
  "language_info": {
   "codemirror_mode": {
    "name": "ipython",
    "version": 3
   },
   "file_extension": ".py",
   "mimetype": "text/x-python",
   "name": "python",
   "nbconvert_exporter": "python",
   "pygments_lexer": "ipython3",
   "version": "3.9.7"
  },
  "orig_nbformat": 4
 },
 "nbformat": 4,
 "nbformat_minor": 2
}
